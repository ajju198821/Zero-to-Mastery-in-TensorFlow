{
  "nbformat": 4,
  "nbformat_minor": 0,
  "metadata": {
    "colab": {
      "name": "00_TensorFlow_Fundamentals.ipynb",
      "provenance": []
    },
    "kernelspec": {
      "name": "python3",
      "display_name": "Python 3"
    },
    "language_info": {
      "name": "python"
    }
  },
  "cells": [
    {
      "cell_type": "markdown",
      "metadata": {
        "id": "pVrkGjBNxXlc"
      },
      "source": [
        "\n",
        "\n",
        "# Introduction to TensorFlow\n"
      ]
    },
    {
      "cell_type": "code",
      "metadata": {
        "id": "1x5t-SMm5g-P"
      },
      "source": [
        "import numpy as np\n"
      ],
      "execution_count": 1,
      "outputs": []
    },
    {
      "cell_type": "code",
      "metadata": {
        "colab": {
          "base_uri": "https://localhost:8080/"
        },
        "id": "63-OVkPgwDPg",
        "outputId": "c61f7137-4ab2-4f72-af78-1a0eba90cfb9"
      },
      "source": [
        "# Importing Tensorflow\n",
        "\n",
        "import tensorflow as tf\n",
        "print(tf.__version__)"
      ],
      "execution_count": 2,
      "outputs": [
        {
          "output_type": "stream",
          "name": "stdout",
          "text": [
            "2.7.0\n"
          ]
        }
      ]
    },
    {
      "cell_type": "code",
      "metadata": {
        "colab": {
          "base_uri": "https://localhost:8080/"
        },
        "id": "DJFcqtcw3w9h",
        "outputId": "822a47f7-61d5-4308-e05e-5853a43b5e51"
      },
      "source": [
        "# Creating tensor with tf.constant()\n",
        "Constant = tf.constant(7)\n",
        "Constant"
      ],
      "execution_count": null,
      "outputs": [
        {
          "output_type": "execute_result",
          "data": {
            "text/plain": [
              "<tf.Tensor: shape=(), dtype=int32, numpy=7>"
            ]
          },
          "metadata": {},
          "execution_count": 4
        }
      ]
    },
    {
      "cell_type": "code",
      "metadata": {
        "colab": {
          "base_uri": "https://localhost:8080/"
        },
        "id": "XK3sfy6W5Jjg",
        "outputId": "b8ee06ac-a940-4729-ead6-26b79eb7d691"
      },
      "source": [
        "tf.constant([1, 2, 3, 4, 5, 6], dtype=float)"
      ],
      "execution_count": null,
      "outputs": [
        {
          "output_type": "execute_result",
          "data": {
            "text/plain": [
              "<tf.Tensor: shape=(6,), dtype=float32, numpy=array([1., 2., 3., 4., 5., 6.], dtype=float32)>"
            ]
          },
          "metadata": {},
          "execution_count": 7
        }
      ]
    },
    {
      "cell_type": "code",
      "metadata": {
        "colab": {
          "base_uri": "https://localhost:8080/"
        },
        "id": "Ety2YCR85dOP",
        "outputId": "20a26117-ff7f-48db-e979-99f5872e4b55"
      },
      "source": [
        "a = np.array([[1, 2, 3], [4, 5,6]])\n",
        "tf.constant(a)"
      ],
      "execution_count": null,
      "outputs": [
        {
          "output_type": "execute_result",
          "data": {
            "text/plain": [
              "<tf.Tensor: shape=(2, 3), dtype=int64, numpy=\n",
              "array([[1, 2, 3],\n",
              "       [4, 5, 6]])>"
            ]
          },
          "metadata": {},
          "execution_count": 12
        }
      ]
    },
    {
      "cell_type": "markdown",
      "metadata": {
        "id": "9QrdYQ8a835f"
      },
      "source": [
        "* Scalar is a single number\n",
        "* Vector: a number with direction (ex wind speed and direction)\n",
        "* Martix: a 2 dimensional array of elements\n",
        "* Tensor: An n dimensional array of numbers (where n can be any number. if n=0, tensor is scalar, n=1, tensor is 1 dimensional vector)"
      ]
    },
    {
      "cell_type": "code",
      "metadata": {
        "colab": {
          "base_uri": "https://localhost:8080/"
        },
        "id": "qgyB2Br8-Q5b",
        "outputId": "e829569b-aa70-44ff-9164-487f21281fe1"
      },
      "source": [
        "a.shape"
      ],
      "execution_count": null,
      "outputs": [
        {
          "output_type": "execute_result",
          "data": {
            "text/plain": [
              "(2, 3)"
            ]
          },
          "metadata": {},
          "execution_count": 16
        }
      ]
    },
    {
      "cell_type": "code",
      "metadata": {
        "colab": {
          "base_uri": "https://localhost:8080/"
        },
        "id": "8k7wpnE-9umL",
        "outputId": "b181dee5-dca8-4eec-b14d-173f924f9eda"
      },
      "source": [
        "# ndim is for number of dimensions in a tensor\n",
        "a.ndim"
      ],
      "execution_count": null,
      "outputs": [
        {
          "output_type": "execute_result",
          "data": {
            "text/plain": [
              "2"
            ]
          },
          "metadata": {},
          "execution_count": 13
        }
      ]
    },
    {
      "cell_type": "markdown",
      "metadata": {
        "id": "3eiU7QvP-B0M"
      },
      "source": [
        "##### Number of dimensions = Number of elements in a shape"
      ]
    },
    {
      "cell_type": "code",
      "metadata": {
        "colab": {
          "base_uri": "https://localhost:8080/"
        },
        "id": "vJu4pTcm-OBK",
        "outputId": "36567de1-325b-483e-92d6-80e1188e1feb"
      },
      "source": [
        "Constant.shape"
      ],
      "execution_count": null,
      "outputs": [
        {
          "output_type": "execute_result",
          "data": {
            "text/plain": [
              "TensorShape([])"
            ]
          },
          "metadata": {},
          "execution_count": 15
        }
      ]
    },
    {
      "cell_type": "code",
      "metadata": {
        "colab": {
          "base_uri": "https://localhost:8080/"
        },
        "id": "rWfBjoh898zk",
        "outputId": "6661097b-21b4-4a53-c69f-79ddedb258c3"
      },
      "source": [
        "Constant.ndim"
      ],
      "execution_count": null,
      "outputs": [
        {
          "output_type": "execute_result",
          "data": {
            "text/plain": [
              "0"
            ]
          },
          "metadata": {},
          "execution_count": 14
        }
      ]
    },
    {
      "cell_type": "markdown",
      "metadata": {
        "id": "lw3cNOwZ-2m1"
      },
      "source": [
        "### Creating tensor with `tf.Variable`"
      ]
    },
    {
      "cell_type": "code",
      "metadata": {
        "colab": {
          "base_uri": "https://localhost:8080/"
        },
        "id": "OTmDh9q9G23J",
        "outputId": "a2d3f00e-1a14-40fd-e361-e9a0a83fe13e"
      },
      "source": [
        "change_tensor = tf.Variable([10,7])\n",
        "unchangable_tensor = tf.constant([7,10])\n",
        "change_tensor, unchangable_tensor"
      ],
      "execution_count": null,
      "outputs": [
        {
          "output_type": "execute_result",
          "data": {
            "text/plain": [
              "(<tf.Variable 'Variable:0' shape=(2,) dtype=int32, numpy=array([10,  7], dtype=int32)>,\n",
              " <tf.Tensor: shape=(2,), dtype=int32, numpy=array([ 7, 10], dtype=int32)>)"
            ]
          },
          "metadata": {},
          "execution_count": 9
        }
      ]
    },
    {
      "cell_type": "code",
      "metadata": {
        "colab": {
          "base_uri": "https://localhost:8080/"
        },
        "id": "C5iqwK20HaV4",
        "outputId": "437761d8-b6c4-49ab-a409-6e2f29d16c27"
      },
      "source": [
        "#let's try to change/assign the value to changable_tensor\n",
        "\n",
        "change_tensor[0].assign(7)\n",
        "change_tensor"
      ],
      "execution_count": null,
      "outputs": [
        {
          "output_type": "execute_result",
          "data": {
            "text/plain": [
              "<tf.Variable 'Variable:0' shape=(2,) dtype=int32, numpy=array([7, 7], dtype=int32)>"
            ]
          },
          "metadata": {},
          "execution_count": 19
        }
      ]
    },
    {
      "cell_type": "code",
      "metadata": {
        "colab": {
          "base_uri": "https://localhost:8080/",
          "height": 384
        },
        "id": "wbb15uSeIXXy",
        "outputId": "7e508d9a-e0f4-4a29-a70e-9ac61ddeb311"
      },
      "source": [
        "#let's try to change/assign the value to unchangable_tensor\n",
        "unchangable_tensor[0].assign(10)"
      ],
      "execution_count": null,
      "outputs": [
        {
          "output_type": "error",
          "ename": "AttributeError",
          "evalue": "ignored",
          "traceback": [
            "\u001b[0;31m---------------------------------------------------------------------------\u001b[0m",
            "\u001b[0;31mAttributeError\u001b[0m                            Traceback (most recent call last)",
            "\u001b[0;32m<ipython-input-21-2098003c0252>\u001b[0m in \u001b[0;36m<module>\u001b[0;34m()\u001b[0m\n\u001b[1;32m      1\u001b[0m \u001b[0;31m#let's try to change/assign the value to unchangable_tensor\u001b[0m\u001b[0;34m\u001b[0m\u001b[0;34m\u001b[0m\u001b[0;34m\u001b[0m\u001b[0m\n\u001b[0;32m----> 2\u001b[0;31m \u001b[0munchangable_tensor\u001b[0m\u001b[0;34m[\u001b[0m\u001b[0;36m0\u001b[0m\u001b[0;34m]\u001b[0m\u001b[0;34m.\u001b[0m\u001b[0massign\u001b[0m\u001b[0;34m(\u001b[0m\u001b[0;36m10\u001b[0m\u001b[0;34m)\u001b[0m\u001b[0;34m\u001b[0m\u001b[0;34m\u001b[0m\u001b[0m\n\u001b[0m",
            "\u001b[0;32m/usr/local/lib/python3.7/dist-packages/tensorflow/python/framework/ops.py\u001b[0m in \u001b[0;36m__getattr__\u001b[0;34m(self, name)\u001b[0m\n\u001b[1;32m    440\u001b[0m         \u001b[0;32mfrom\u001b[0m \u001b[0mtensorflow\u001b[0m\u001b[0;34m.\u001b[0m\u001b[0mpython\u001b[0m\u001b[0;34m.\u001b[0m\u001b[0mops\u001b[0m\u001b[0;34m.\u001b[0m\u001b[0mnumpy_ops\u001b[0m \u001b[0;32mimport\u001b[0m \u001b[0mnp_config\u001b[0m\u001b[0;34m\u001b[0m\u001b[0;34m\u001b[0m\u001b[0m\n\u001b[1;32m    441\u001b[0m         np_config.enable_numpy_behavior()\"\"\".format(type(self).__name__, name))\n\u001b[0;32m--> 442\u001b[0;31m     \u001b[0mself\u001b[0m\u001b[0;34m.\u001b[0m\u001b[0m__getattribute__\u001b[0m\u001b[0;34m(\u001b[0m\u001b[0mname\u001b[0m\u001b[0;34m)\u001b[0m\u001b[0;34m\u001b[0m\u001b[0;34m\u001b[0m\u001b[0m\n\u001b[0m\u001b[1;32m    443\u001b[0m \u001b[0;34m\u001b[0m\u001b[0m\n\u001b[1;32m    444\u001b[0m   \u001b[0;34m@\u001b[0m\u001b[0mstaticmethod\u001b[0m\u001b[0;34m\u001b[0m\u001b[0;34m\u001b[0m\u001b[0m\n",
            "\u001b[0;31mAttributeError\u001b[0m: 'tensorflow.python.framework.ops.EagerTensor' object has no attribute 'assign'"
          ]
        }
      ]
    },
    {
      "cell_type": "markdown",
      "metadata": {
        "id": "DTJhKQ6jItVi"
      },
      "source": [
        "### Creating random Tensors"
      ]
    },
    {
      "cell_type": "code",
      "metadata": {
        "colab": {
          "base_uri": "https://localhost:8080/"
        },
        "id": "KLHSmcVgIx-X",
        "outputId": "4b8cb872-ed95-453f-bddf-f2f69f8ea8a1"
      },
      "source": [
        "#Creat a randon tensor\n",
        "\n",
        "random_1 = tf.random.Generator.from_seed(42)\n",
        "random_1 = random_1.normal(shape = [3,2])\n",
        "\n",
        "random_2 = tf.random.Generator.from_seed(42)\n",
        "random_2 = random_2.normal(shape = [3,2])\n",
        "\n",
        "random_1, random_2, random_1 == random_2"
      ],
      "execution_count": null,
      "outputs": [
        {
          "output_type": "execute_result",
          "data": {
            "text/plain": [
              "(<tf.Tensor: shape=(3, 2), dtype=float32, numpy=\n",
              " array([[-0.7565803 , -0.06854702],\n",
              "        [ 0.07595026, -1.2573844 ],\n",
              "        [-0.23193763, -1.8107855 ]], dtype=float32)>,\n",
              " <tf.Tensor: shape=(3, 2), dtype=float32, numpy=\n",
              " array([[-0.7565803 , -0.06854702],\n",
              "        [ 0.07595026, -1.2573844 ],\n",
              "        [-0.23193763, -1.8107855 ]], dtype=float32)>,\n",
              " <tf.Tensor: shape=(3, 2), dtype=bool, numpy=\n",
              " array([[ True,  True],\n",
              "        [ True,  True],\n",
              "        [ True,  True]])>)"
            ]
          },
          "metadata": {},
          "execution_count": 25
        }
      ]
    },
    {
      "cell_type": "code",
      "metadata": {
        "colab": {
          "base_uri": "https://localhost:8080/"
        },
        "id": "E76t57v-MC64",
        "outputId": "debcf103-800b-41d9-9d05-5649779cfa32"
      },
      "source": [
        "random_1 = tf.random.Generator.from_seed(42)\n",
        "random_1 = random_1.normal(shape = [3,2])\n",
        "\n",
        "random_2 = tf.random.Generator.from_seed(32)\n",
        "random_2 = random_2.normal(shape = [3,2])\n",
        "\n",
        "random_1, random_2, random_1 == random_2"
      ],
      "execution_count": null,
      "outputs": [
        {
          "output_type": "execute_result",
          "data": {
            "text/plain": [
              "(<tf.Tensor: shape=(3, 2), dtype=float32, numpy=\n",
              " array([[-0.7565803 , -0.06854702],\n",
              "        [ 0.07595026, -1.2573844 ],\n",
              "        [-0.23193763, -1.8107855 ]], dtype=float32)>,\n",
              " <tf.Tensor: shape=(3, 2), dtype=float32, numpy=\n",
              " array([[ 0.7901182 ,  1.585549  ],\n",
              "        [ 0.4356279 ,  0.23645182],\n",
              "        [-0.1589871 ,  1.302304  ]], dtype=float32)>,\n",
              " <tf.Tensor: shape=(3, 2), dtype=bool, numpy=\n",
              " array([[False, False],\n",
              "        [False, False],\n",
              "        [False, False]])>)"
            ]
          },
          "metadata": {},
          "execution_count": 26
        }
      ]
    },
    {
      "cell_type": "markdown",
      "metadata": {
        "id": "8UY8E4-vOxKr"
      },
      "source": [
        "## Understand About Shuffel in TensorFlow"
      ]
    },
    {
      "cell_type": "code",
      "metadata": {
        "colab": {
          "base_uri": "https://localhost:8080/"
        },
        "id": "RHZXb0WgO4GB",
        "outputId": "8ce11637-e056-4ca4-ad15-8d52cd5afe49"
      },
      "source": [
        "not_shuffel = tf.constant([[10,7],\n",
        "                           [2,5],\n",
        "                           [3,7],\n",
        "                           [11,23],\n",
        "                           [34,12]])\n",
        "tf.random.shuffle(not_shuffel)"
      ],
      "execution_count": null,
      "outputs": [
        {
          "output_type": "execute_result",
          "data": {
            "text/plain": [
              "<tf.Tensor: shape=(5, 2), dtype=int32, numpy=\n",
              "array([[10,  7],\n",
              "       [ 3,  7],\n",
              "       [34, 12],\n",
              "       [11, 23],\n",
              "       [ 2,  5]], dtype=int32)>"
            ]
          },
          "metadata": {},
          "execution_count": 45
        }
      ]
    },
    {
      "cell_type": "code",
      "metadata": {
        "colab": {
          "base_uri": "https://localhost:8080/"
        },
        "id": "SicRNI9HPefz",
        "outputId": "c5f29c58-1332-46f3-99f2-c2bcc54de6c4"
      },
      "source": [
        "tf.random.shuffle(not_shuffel)"
      ],
      "execution_count": null,
      "outputs": [
        {
          "output_type": "execute_result",
          "data": {
            "text/plain": [
              "<tf.Tensor: shape=(5, 2), dtype=int32, numpy=\n",
              "array([[ 3,  7],\n",
              "       [11, 23],\n",
              "       [ 2,  5],\n",
              "       [34, 12],\n",
              "       [10,  7]], dtype=int32)>"
            ]
          },
          "metadata": {},
          "execution_count": 48
        }
      ]
    },
    {
      "cell_type": "code",
      "metadata": {
        "colab": {
          "base_uri": "https://localhost:8080/"
        },
        "id": "6XOV9VhxPY35",
        "outputId": "cc540754-eea3-4eac-c165-2ef38ed29c75"
      },
      "source": [
        "tf.random.set_seed(32)\n",
        "tf.random.shuffle(not_shuffel, seed = 21)"
      ],
      "execution_count": null,
      "outputs": [
        {
          "output_type": "execute_result",
          "data": {
            "text/plain": [
              "<tf.Tensor: shape=(5, 2), dtype=int32, numpy=\n",
              "array([[34, 12],\n",
              "       [10,  7],\n",
              "       [11, 23],\n",
              "       [ 3,  7],\n",
              "       [ 2,  5]], dtype=int32)>"
            ]
          },
          "metadata": {},
          "execution_count": 59
        }
      ]
    },
    {
      "cell_type": "code",
      "metadata": {
        "colab": {
          "base_uri": "https://localhost:8080/"
        },
        "id": "IhgXBGMVQUMK",
        "outputId": "8f3068ce-51e9-4b23-a7f8-78811cafbc69"
      },
      "source": [
        "# Creating a tensor ones\n",
        "\n",
        "tf.ones(shape = [3,4])"
      ],
      "execution_count": null,
      "outputs": [
        {
          "output_type": "execute_result",
          "data": {
            "text/plain": [
              "<tf.Tensor: shape=(3, 4), dtype=float32, numpy=\n",
              "array([[1., 1., 1., 1.],\n",
              "       [1., 1., 1., 1.],\n",
              "       [1., 1., 1., 1.]], dtype=float32)>"
            ]
          },
          "metadata": {},
          "execution_count": 61
        }
      ]
    },
    {
      "cell_type": "code",
      "metadata": {
        "colab": {
          "base_uri": "https://localhost:8080/"
        },
        "id": "R8QqY6WvY6f1",
        "outputId": "0da49281-ab47-4e32-ee8f-0d01482561c4"
      },
      "source": [
        "# Creating a tensor Zeros\n",
        "tf.zeros(shape = [5,2])"
      ],
      "execution_count": null,
      "outputs": [
        {
          "output_type": "execute_result",
          "data": {
            "text/plain": [
              "<tf.Tensor: shape=(5, 2), dtype=float32, numpy=\n",
              "array([[0., 0.],\n",
              "       [0., 0.],\n",
              "       [0., 0.],\n",
              "       [0., 0.],\n",
              "       [0., 0.]], dtype=float32)>"
            ]
          },
          "metadata": {},
          "execution_count": 62
        }
      ]
    },
    {
      "cell_type": "code",
      "metadata": {
        "colab": {
          "base_uri": "https://localhost:8080/"
        },
        "id": "F9WdlX3UZEPx",
        "outputId": "8b89a138-eb88-4ce5-89fa-b61217fcac18"
      },
      "source": [
        "a = np.arange(1, 25)\n",
        "a"
      ],
      "execution_count": null,
      "outputs": [
        {
          "output_type": "execute_result",
          "data": {
            "text/plain": [
              "array([ 1,  2,  3,  4,  5,  6,  7,  8,  9, 10, 11, 12, 13, 14, 15, 16, 17,\n",
              "       18, 19, 20, 21, 22, 23, 24])"
            ]
          },
          "metadata": {},
          "execution_count": 70
        }
      ]
    },
    {
      "cell_type": "markdown",
      "metadata": {
        "id": "JBEadMLbZwJW"
      },
      "source": [
        "#convert Numpy arrany to TensorFlow tensor"
      ]
    },
    {
      "cell_type": "code",
      "metadata": {
        "colab": {
          "base_uri": "https://localhost:8080/"
        },
        "id": "JwAuAMt-Z3uc",
        "outputId": "297ada7e-83a5-4dbd-9500-8d251ba8125a"
      },
      "source": [
        "Numpy_Tensor = tf.constant(a)\n",
        "Numpy_Tensor"
      ],
      "execution_count": null,
      "outputs": [
        {
          "output_type": "execute_result",
          "data": {
            "text/plain": [
              "<tf.Tensor: shape=(24,), dtype=int64, numpy=\n",
              "array([ 1,  2,  3,  4,  5,  6,  7,  8,  9, 10, 11, 12, 13, 14, 15, 16, 17,\n",
              "       18, 19, 20, 21, 22, 23, 24])>"
            ]
          },
          "metadata": {},
          "execution_count": 72
        }
      ]
    },
    {
      "cell_type": "code",
      "metadata": {
        "colab": {
          "base_uri": "https://localhost:8080/"
        },
        "id": "GPJ0vJruZNbq",
        "outputId": "78adbfb0-8831-4ecf-805a-31746eccf5a4"
      },
      "source": [
        "Numpy_Tensor_shape1 = tf.constant(a, shape= [3,8])\n",
        "Numpy_Tensor_shape1"
      ],
      "execution_count": null,
      "outputs": [
        {
          "output_type": "execute_result",
          "data": {
            "text/plain": [
              "<tf.Tensor: shape=(3, 8), dtype=int64, numpy=\n",
              "array([[ 1,  2,  3,  4,  5,  6,  7,  8],\n",
              "       [ 9, 10, 11, 12, 13, 14, 15, 16],\n",
              "       [17, 18, 19, 20, 21, 22, 23, 24]])>"
            ]
          },
          "metadata": {},
          "execution_count": 74
        }
      ]
    },
    {
      "cell_type": "code",
      "metadata": {
        "colab": {
          "base_uri": "https://localhost:8080/"
        },
        "id": "B88RPGnKa1Fu",
        "outputId": "c85a5e85-ae0a-4fe1-cfc4-82c31397ab1f"
      },
      "source": [
        "Numpy_Tensor_shape2 = tf.Variable(a)\n",
        "Numpy_Tensor_shape2"
      ],
      "execution_count": null,
      "outputs": [
        {
          "output_type": "execute_result",
          "data": {
            "text/plain": [
              "<tf.Variable 'Variable:0' shape=(24,) dtype=int64, numpy=\n",
              "array([ 1,  2,  3,  4,  5,  6,  7,  8,  9, 10, 11, 12, 13, 14, 15, 16, 17,\n",
              "       18, 19, 20, 21, 22, 23, 24])>"
            ]
          },
          "metadata": {},
          "execution_count": 80
        }
      ]
    },
    {
      "cell_type": "code",
      "metadata": {
        "colab": {
          "base_uri": "https://localhost:8080/",
          "height": 510
        },
        "id": "lQzceElSaVF3",
        "outputId": "cd9460d8-389d-404c-e040-229b4a7c10ca"
      },
      "source": [
        "Numpy_Tensor_shape3 = tf.Variable(a, shape = [8,3])\n",
        "Numpy_Tensor_shape3"
      ],
      "execution_count": null,
      "outputs": [
        {
          "output_type": "error",
          "ename": "ValueError",
          "evalue": "ignored",
          "traceback": [
            "\u001b[0;31m---------------------------------------------------------------------------\u001b[0m",
            "\u001b[0;31mValueError\u001b[0m                                Traceback (most recent call last)",
            "\u001b[0;32m<ipython-input-81-b01d03490e88>\u001b[0m in \u001b[0;36m<module>\u001b[0;34m()\u001b[0m\n\u001b[0;32m----> 1\u001b[0;31m \u001b[0mNumpy_Tensor_shape3\u001b[0m \u001b[0;34m=\u001b[0m \u001b[0mtf\u001b[0m\u001b[0;34m.\u001b[0m\u001b[0mVariable\u001b[0m\u001b[0;34m(\u001b[0m\u001b[0ma\u001b[0m\u001b[0;34m,\u001b[0m \u001b[0mshape\u001b[0m \u001b[0;34m=\u001b[0m \u001b[0;34m[\u001b[0m\u001b[0;36m8\u001b[0m\u001b[0;34m,\u001b[0m\u001b[0;36m3\u001b[0m\u001b[0;34m]\u001b[0m\u001b[0;34m)\u001b[0m\u001b[0;34m\u001b[0m\u001b[0;34m\u001b[0m\u001b[0m\n\u001b[0m\u001b[1;32m      2\u001b[0m \u001b[0mNumpy_Tensor_shape3\u001b[0m\u001b[0;34m\u001b[0m\u001b[0;34m\u001b[0m\u001b[0m\n",
            "\u001b[0;32m/usr/local/lib/python3.7/dist-packages/tensorflow/python/util/traceback_utils.py\u001b[0m in \u001b[0;36merror_handler\u001b[0;34m(*args, **kwargs)\u001b[0m\n\u001b[1;32m    151\u001b[0m     \u001b[0;32mexcept\u001b[0m \u001b[0mException\u001b[0m \u001b[0;32mas\u001b[0m \u001b[0me\u001b[0m\u001b[0;34m:\u001b[0m\u001b[0;34m\u001b[0m\u001b[0;34m\u001b[0m\u001b[0m\n\u001b[1;32m    152\u001b[0m       \u001b[0mfiltered_tb\u001b[0m \u001b[0;34m=\u001b[0m \u001b[0m_process_traceback_frames\u001b[0m\u001b[0;34m(\u001b[0m\u001b[0me\u001b[0m\u001b[0;34m.\u001b[0m\u001b[0m__traceback__\u001b[0m\u001b[0;34m)\u001b[0m\u001b[0;34m\u001b[0m\u001b[0;34m\u001b[0m\u001b[0m\n\u001b[0;32m--> 153\u001b[0;31m       \u001b[0;32mraise\u001b[0m \u001b[0me\u001b[0m\u001b[0;34m.\u001b[0m\u001b[0mwith_traceback\u001b[0m\u001b[0;34m(\u001b[0m\u001b[0mfiltered_tb\u001b[0m\u001b[0;34m)\u001b[0m \u001b[0;32mfrom\u001b[0m \u001b[0;32mNone\u001b[0m\u001b[0;34m\u001b[0m\u001b[0;34m\u001b[0m\u001b[0m\n\u001b[0m\u001b[1;32m    154\u001b[0m     \u001b[0;32mfinally\u001b[0m\u001b[0;34m:\u001b[0m\u001b[0;34m\u001b[0m\u001b[0;34m\u001b[0m\u001b[0m\n\u001b[1;32m    155\u001b[0m       \u001b[0;32mdel\u001b[0m \u001b[0mfiltered_tb\u001b[0m\u001b[0;34m\u001b[0m\u001b[0;34m\u001b[0m\u001b[0m\n",
            "\u001b[0;32m/usr/local/lib/python3.7/dist-packages/tensorflow/python/ops/resource_variable_ops.py\u001b[0m in \u001b[0;36m_init_from_args\u001b[0;34m(self, initial_value, trainable, collections, caching_device, name, dtype, constraint, synchronization, aggregation, distribute_strategy, shape)\u001b[0m\n\u001b[1;32m   1785\u001b[0m             \u001b[0;32mif\u001b[0m \u001b[0;32mnot\u001b[0m \u001b[0minitial_value\u001b[0m\u001b[0;34m.\u001b[0m\u001b[0mshape\u001b[0m\u001b[0;34m.\u001b[0m\u001b[0mis_compatible_with\u001b[0m\u001b[0;34m(\u001b[0m\u001b[0mshape\u001b[0m\u001b[0;34m)\u001b[0m\u001b[0;34m:\u001b[0m\u001b[0;34m\u001b[0m\u001b[0;34m\u001b[0m\u001b[0m\n\u001b[1;32m   1786\u001b[0m               raise ValueError(\n\u001b[0;32m-> 1787\u001b[0;31m                   \u001b[0;34mf\"In this `tf.Variable` creation, the initial value's shape \"\u001b[0m\u001b[0;34m\u001b[0m\u001b[0;34m\u001b[0m\u001b[0m\n\u001b[0m\u001b[1;32m   1788\u001b[0m                   \u001b[0;34mf\"({initial_value.shape}) is not compatible with \"\u001b[0m\u001b[0;34m\u001b[0m\u001b[0;34m\u001b[0m\u001b[0m\n\u001b[1;32m   1789\u001b[0m                   f\"the explicitly supplied `shape` argument ({shape}).\")\n",
            "\u001b[0;31mValueError\u001b[0m: In this `tf.Variable` creation, the initial value's shape ((24,)) is not compatible with the explicitly supplied `shape` argument ([8, 3])."
          ]
        }
      ]
    },
    {
      "cell_type": "markdown",
      "metadata": {
        "id": "zUlVo4HwiWP5"
      },
      "source": [
        "### Getting information from tensor"
      ]
    },
    {
      "cell_type": "code",
      "metadata": {
        "colab": {
          "base_uri": "https://localhost:8080/"
        },
        "id": "yHSoHq3miZ-t",
        "outputId": "17c513fa-f4d3-4795-f662-55bcb5970dca"
      },
      "source": [
        "# creat rank /diminsion 4 tensor\n",
        "\n",
        "rank_4_tensor = tf.zeros(shape= [3,3,4,5])\n",
        "rank_4_tensor"
      ],
      "execution_count": 6,
      "outputs": [
        {
          "output_type": "execute_result",
          "data": {
            "text/plain": [
              "<tf.Tensor: shape=(3, 3, 4, 5), dtype=float32, numpy=\n",
              "array([[[[0., 0., 0., 0., 0.],\n",
              "         [0., 0., 0., 0., 0.],\n",
              "         [0., 0., 0., 0., 0.],\n",
              "         [0., 0., 0., 0., 0.]],\n",
              "\n",
              "        [[0., 0., 0., 0., 0.],\n",
              "         [0., 0., 0., 0., 0.],\n",
              "         [0., 0., 0., 0., 0.],\n",
              "         [0., 0., 0., 0., 0.]],\n",
              "\n",
              "        [[0., 0., 0., 0., 0.],\n",
              "         [0., 0., 0., 0., 0.],\n",
              "         [0., 0., 0., 0., 0.],\n",
              "         [0., 0., 0., 0., 0.]]],\n",
              "\n",
              "\n",
              "       [[[0., 0., 0., 0., 0.],\n",
              "         [0., 0., 0., 0., 0.],\n",
              "         [0., 0., 0., 0., 0.],\n",
              "         [0., 0., 0., 0., 0.]],\n",
              "\n",
              "        [[0., 0., 0., 0., 0.],\n",
              "         [0., 0., 0., 0., 0.],\n",
              "         [0., 0., 0., 0., 0.],\n",
              "         [0., 0., 0., 0., 0.]],\n",
              "\n",
              "        [[0., 0., 0., 0., 0.],\n",
              "         [0., 0., 0., 0., 0.],\n",
              "         [0., 0., 0., 0., 0.],\n",
              "         [0., 0., 0., 0., 0.]]],\n",
              "\n",
              "\n",
              "       [[[0., 0., 0., 0., 0.],\n",
              "         [0., 0., 0., 0., 0.],\n",
              "         [0., 0., 0., 0., 0.],\n",
              "         [0., 0., 0., 0., 0.]],\n",
              "\n",
              "        [[0., 0., 0., 0., 0.],\n",
              "         [0., 0., 0., 0., 0.],\n",
              "         [0., 0., 0., 0., 0.],\n",
              "         [0., 0., 0., 0., 0.]],\n",
              "\n",
              "        [[0., 0., 0., 0., 0.],\n",
              "         [0., 0., 0., 0., 0.],\n",
              "         [0., 0., 0., 0., 0.],\n",
              "         [0., 0., 0., 0., 0.]]]], dtype=float32)>"
            ]
          },
          "metadata": {},
          "execution_count": 6
        }
      ]
    },
    {
      "cell_type": "code",
      "metadata": {
        "colab": {
          "base_uri": "https://localhost:8080/"
        },
        "id": "nPs-_ahqjHxA",
        "outputId": "aa75469b-8485-488a-ed3f-bfdf25724ae5"
      },
      "source": [
        "# Get various attributes of tensor\n",
        "print(\"Datatype of every element:\", rank_4_tensor.dtype)\n",
        "print(\"Number of dimensions (rank):\", rank_4_tensor.ndim)\n",
        "print(\"Shape of tensor:\", rank_4_tensor.shape)\n",
        "print(\"Elements along axis 0 of tensor:\", rank_4_tensor.shape[0])\n",
        "print(\"Elements along last axis of tensor:\", rank_4_tensor.shape[-1])\n",
        "print(\"Total number of elements (2*3*4*5):\", tf.size(rank_4_tensor))\n",
        "print(\"Total number of elements (2*3*4*5):\", tf.size(rank_4_tensor).numpy()) # .numpy() converts to NumPy array\n"
      ],
      "execution_count": 9,
      "outputs": [
        {
          "output_type": "stream",
          "name": "stdout",
          "text": [
            "Datatype of every element: <dtype: 'float32'>\n",
            "Number of dimensions (rank): 4\n",
            "Shape of tensor: (3, 3, 4, 5)\n",
            "Elements along axis 0 of tensor: 3\n",
            "Elements along last axis of tensor: 5\n",
            "Total number of elements (2*3*4*5): tf.Tensor(180, shape=(), dtype=int32)\n",
            "Total number of elements (2*3*4*5): 180\n"
          ]
        }
      ]
    },
    {
      "cell_type": "markdown",
      "metadata": {
        "id": "fM8r3UQ5n8zZ"
      },
      "source": [
        "### Indexing with tensors"
      ]
    },
    {
      "cell_type": "code",
      "metadata": {
        "colab": {
          "base_uri": "https://localhost:8080/"
        },
        "id": "5_KRSuiPn8Lv",
        "outputId": "5f267ffa-ca8e-49df-f0fe-b56885a7951a"
      },
      "source": [
        "rank_4_tensor[0,0,:,:]"
      ],
      "execution_count": 16,
      "outputs": [
        {
          "output_type": "execute_result",
          "data": {
            "text/plain": [
              "<tf.Tensor: shape=(4, 5), dtype=float32, numpy=\n",
              "array([[0., 0., 0., 0., 0.],\n",
              "       [0., 0., 0., 0., 0.],\n",
              "       [0., 0., 0., 0., 0.],\n",
              "       [0., 0., 0., 0., 0.]], dtype=float32)>"
            ]
          },
          "metadata": {},
          "execution_count": 16
        }
      ]
    },
    {
      "cell_type": "code",
      "metadata": {
        "colab": {
          "base_uri": "https://localhost:8080/"
        },
        "id": "C4dj1jJ0o-a7",
        "outputId": "23ab9c73-baa8-4847-9036-73168bd894f7"
      },
      "source": [
        "A = np.arange(0,40)\n",
        "A"
      ],
      "execution_count": 19,
      "outputs": [
        {
          "output_type": "execute_result",
          "data": {
            "text/plain": [
              "array([ 0,  1,  2,  3,  4,  5,  6,  7,  8,  9, 10, 11, 12, 13, 14, 15, 16,\n",
              "       17, 18, 19, 20, 21, 22, 23, 24, 25, 26, 27, 28, 29, 30, 31, 32, 33,\n",
              "       34, 35, 36, 37, 38, 39])"
            ]
          },
          "metadata": {},
          "execution_count": 19
        }
      ]
    },
    {
      "cell_type": "code",
      "metadata": {
        "colab": {
          "base_uri": "https://localhost:8080/"
        },
        "id": "7PeM6hmTpS1i",
        "outputId": "583216aa-75a5-4419-f73e-5dcbbe1778c6"
      },
      "source": [
        "rank_tensor = tf.constant(A, shape= [2,2,2,5])\n",
        "rank_tensor"
      ],
      "execution_count": 26,
      "outputs": [
        {
          "output_type": "execute_result",
          "data": {
            "text/plain": [
              "<tf.Tensor: shape=(2, 2, 2, 5), dtype=int64, numpy=\n",
              "array([[[[ 0,  1,  2,  3,  4],\n",
              "         [ 5,  6,  7,  8,  9]],\n",
              "\n",
              "        [[10, 11, 12, 13, 14],\n",
              "         [15, 16, 17, 18, 19]]],\n",
              "\n",
              "\n",
              "       [[[20, 21, 22, 23, 24],\n",
              "         [25, 26, 27, 28, 29]],\n",
              "\n",
              "        [[30, 31, 32, 33, 34],\n",
              "         [35, 36, 37, 38, 39]]]])>"
            ]
          },
          "metadata": {},
          "execution_count": 26
        }
      ]
    },
    {
      "cell_type": "code",
      "metadata": {
        "colab": {
          "base_uri": "https://localhost:8080/"
        },
        "id": "47vB7DYFrRtA",
        "outputId": "cb83d96d-1a57-488e-8c78-6a302fce01f0"
      },
      "source": [
        "rank_tensor[:,:,:,1:3]"
      ],
      "execution_count": 29,
      "outputs": [
        {
          "output_type": "execute_result",
          "data": {
            "text/plain": [
              "<tf.Tensor: shape=(2, 2, 2, 2), dtype=int64, numpy=\n",
              "array([[[[ 1,  2],\n",
              "         [ 6,  7]],\n",
              "\n",
              "        [[11, 12],\n",
              "         [16, 17]]],\n",
              "\n",
              "\n",
              "       [[[21, 22],\n",
              "         [26, 27]],\n",
              "\n",
              "        [[31, 32],\n",
              "         [36, 37]]]])>"
            ]
          },
          "metadata": {},
          "execution_count": 29
        }
      ]
    },
    {
      "cell_type": "markdown",
      "metadata": {
        "id": "eLXAsMuqwAHa"
      },
      "source": [
        "## Tensor Manuplations (Basic Operations)\n",
        "\n",
        "`+`, `-`, `*`, and `/`"
      ]
    },
    {
      "cell_type": "code",
      "metadata": {
        "colab": {
          "base_uri": "https://localhost:8080/"
        },
        "id": "IXJMLK4Mv_nZ",
        "outputId": "356a8900-841c-4cca-f28e-745a45f2baeb"
      },
      "source": [
        "tensor = tf.constant([[[2,5],\n",
        "                      [4,6]],\n",
        "                     [[1,2],\n",
        "                      [3,7]]])\n",
        "tensor"
      ],
      "execution_count": 34,
      "outputs": [
        {
          "output_type": "execute_result",
          "data": {
            "text/plain": [
              "<tf.Tensor: shape=(2, 2, 2), dtype=int32, numpy=\n",
              "array([[[2, 5],\n",
              "        [4, 6]],\n",
              "\n",
              "       [[1, 2],\n",
              "        [3, 7]]], dtype=int32)>"
            ]
          },
          "metadata": {},
          "execution_count": 34
        }
      ]
    },
    {
      "cell_type": "code",
      "metadata": {
        "colab": {
          "base_uri": "https://localhost:8080/"
        },
        "id": "7CBX4R-6yzx0",
        "outputId": "2294be7c-0723-42b6-c4df-7610246a00cd"
      },
      "source": [
        "tensor +5"
      ],
      "execution_count": 35,
      "outputs": [
        {
          "output_type": "execute_result",
          "data": {
            "text/plain": [
              "<tf.Tensor: shape=(2, 2, 2), dtype=int32, numpy=\n",
              "array([[[ 7, 10],\n",
              "        [ 9, 11]],\n",
              "\n",
              "       [[ 6,  7],\n",
              "        [ 8, 12]]], dtype=int32)>"
            ]
          },
          "metadata": {},
          "execution_count": 35
        }
      ]
    },
    {
      "cell_type": "markdown",
      "metadata": {
        "id": "8UfCNi0V3sb9"
      },
      "source": [
        "## Tensor (Matrix) miltiple with scalar."
      ]
    },
    {
      "cell_type": "code",
      "metadata": {
        "colab": {
          "base_uri": "https://localhost:8080/"
        },
        "id": "pqZr0iozy5T6",
        "outputId": "c463d507-c6cb-460f-a096-9337ecea2e63"
      },
      "source": [
        "tensor * 10"
      ],
      "execution_count": 36,
      "outputs": [
        {
          "output_type": "execute_result",
          "data": {
            "text/plain": [
              "<tf.Tensor: shape=(2, 2, 2), dtype=int32, numpy=\n",
              "array([[[20, 50],\n",
              "        [40, 60]],\n",
              "\n",
              "       [[10, 20],\n",
              "        [30, 70]]], dtype=int32)>"
            ]
          },
          "metadata": {},
          "execution_count": 36
        }
      ]
    },
    {
      "cell_type": "code",
      "metadata": {
        "colab": {
          "base_uri": "https://localhost:8080/"
        },
        "id": "Dfx3JMWfy8LX",
        "outputId": "0429f34e-cc32-48ee-87a4-17b0d110af91"
      },
      "source": [
        "tf.math.multiply(tensor,10)"
      ],
      "execution_count": 37,
      "outputs": [
        {
          "output_type": "execute_result",
          "data": {
            "text/plain": [
              "<tf.Tensor: shape=(2, 2, 2), dtype=int32, numpy=\n",
              "array([[[20, 50],\n",
              "        [40, 60]],\n",
              "\n",
              "       [[10, 20],\n",
              "        [30, 70]]], dtype=int32)>"
            ]
          },
          "metadata": {},
          "execution_count": 37
        }
      ]
    },
    {
      "cell_type": "code",
      "metadata": {
        "colab": {
          "base_uri": "https://localhost:8080/"
        },
        "id": "a2zScA3fzDn0",
        "outputId": "9b31e33c-ed4d-4c2e-c612-e38ae90984d9"
      },
      "source": [
        "tf.multiply(tensor,10)"
      ],
      "execution_count": 38,
      "outputs": [
        {
          "output_type": "execute_result",
          "data": {
            "text/plain": [
              "<tf.Tensor: shape=(2, 2, 2), dtype=int32, numpy=\n",
              "array([[[20, 50],\n",
              "        [40, 60]],\n",
              "\n",
              "       [[10, 20],\n",
              "        [30, 70]]], dtype=int32)>"
            ]
          },
          "metadata": {},
          "execution_count": 38
        }
      ]
    },
    {
      "cell_type": "markdown",
      "metadata": {
        "id": "Nk4xKw3hzJVE"
      },
      "source": [
        "** NOTE ** : `tf.math.multiply(tensor,10)` == `tf.multiply(tensor,10)` == `tensor * 10`\n",
        "\n",
        "> for faster computation better to use tensor builtin functions.\n"
      ]
    },
    {
      "cell_type": "markdown",
      "metadata": {
        "id": "ni4twDl931VT"
      },
      "source": [
        "###### Multplication of two matrices.\n",
        "\n",
        "MAtrix multplication is most commpon operatiopn in Machine Learning."
      ]
    },
    {
      "cell_type": "code",
      "metadata": {
        "colab": {
          "base_uri": "https://localhost:8080/"
        },
        "id": "f-UdrMi530bC",
        "outputId": "a5b3b0bb-c77b-4a21-b5b1-917604a065d1"
      },
      "source": [
        "tensor1 = tf.constant([[1,2],\n",
        "                       [3,5]])\n",
        "tensor1 * tensor1 # Element wise multiplication"
      ],
      "execution_count": 40,
      "outputs": [
        {
          "output_type": "execute_result",
          "data": {
            "text/plain": [
              "<tf.Tensor: shape=(2, 2), dtype=int32, numpy=\n",
              "array([[ 1,  4],\n",
              "       [ 9, 25]], dtype=int32)>"
            ]
          },
          "metadata": {},
          "execution_count": 40
        }
      ]
    },
    {
      "cell_type": "code",
      "metadata": {
        "colab": {
          "base_uri": "https://localhost:8080/"
        },
        "id": "7sQQpKhx6N0R",
        "outputId": "63dfedf2-1307-45e1-f9c1-905949cc4369"
      },
      "source": [
        "tf.matmul(tensor1, tensor1)"
      ],
      "execution_count": 41,
      "outputs": [
        {
          "output_type": "execute_result",
          "data": {
            "text/plain": [
              "<tf.Tensor: shape=(2, 2), dtype=int32, numpy=\n",
              "array([[ 7, 12],\n",
              "       [18, 31]], dtype=int32)>"
            ]
          },
          "metadata": {},
          "execution_count": 41
        }
      ]
    },
    {
      "cell_type": "markdown",
      "metadata": {
        "id": "1LsKolxE-z5u"
      },
      "source": [
        "### Tensor transformations"
      ]
    },
    {
      "cell_type": "code",
      "metadata": {
        "colab": {
          "base_uri": "https://localhost:8080/"
        },
        "id": "g5Wt1P6s-4Bz",
        "outputId": "03c9b38f-44fe-4ddd-c3eb-6557966205aa"
      },
      "source": [
        "X = tf.constant([[1,2,3,4],\n",
        "                      [1,2,3,6],\n",
        "                      [2,3,4,5]])\n",
        "Y = tf.constant([[1,2,1],\n",
        "                 [3,4,2],\n",
        "                 [5,6,3]])\n",
        "X, Y\n"
      ],
      "execution_count": 60,
      "outputs": [
        {
          "output_type": "execute_result",
          "data": {
            "text/plain": [
              "(<tf.Tensor: shape=(3, 4), dtype=int32, numpy=\n",
              " array([[1, 2, 3, 4],\n",
              "        [1, 2, 3, 6],\n",
              "        [2, 3, 4, 5]], dtype=int32)>,\n",
              " <tf.Tensor: shape=(3, 3), dtype=int32, numpy=\n",
              " array([[1, 2, 1],\n",
              "        [3, 4, 2],\n",
              "        [5, 6, 3]], dtype=int32)>)"
            ]
          },
          "metadata": {},
          "execution_count": 60
        }
      ]
    },
    {
      "cell_type": "code",
      "metadata": {
        "colab": {
          "base_uri": "https://localhost:8080/"
        },
        "id": "jv1XkBMi_dFd",
        "outputId": "70c0129c-bd42-4a65-ef2f-28bd08fdf178"
      },
      "source": [
        "X @ Y # Matrix multiplication in python"
      ],
      "execution_count": 45,
      "outputs": [
        {
          "output_type": "execute_result",
          "data": {
            "text/plain": [
              "<tf.Tensor: shape=(3, 2), dtype=int32, numpy=\n",
              "array([[46, 56],\n",
              "       [58, 70],\n",
              "       [61, 75]], dtype=int32)>"
            ]
          },
          "metadata": {},
          "execution_count": 45
        }
      ]
    },
    {
      "cell_type": "code",
      "metadata": {
        "colab": {
          "base_uri": "https://localhost:8080/"
        },
        "id": "_2Ix-Yk6_0KS",
        "outputId": "a61bab78-f5c3-46d5-bcbb-5952ace55803"
      },
      "source": [
        "tf.matmul(X,Y)"
      ],
      "execution_count": 46,
      "outputs": [
        {
          "output_type": "execute_result",
          "data": {
            "text/plain": [
              "<tf.Tensor: shape=(3, 2), dtype=int32, numpy=\n",
              "array([[46, 56],\n",
              "       [58, 70],\n",
              "       [61, 75]], dtype=int32)>"
            ]
          },
          "metadata": {},
          "execution_count": 46
        }
      ]
    },
    {
      "cell_type": "code",
      "metadata": {
        "colab": {
          "base_uri": "https://localhost:8080/"
        },
        "id": "lqbbhs2s_0Gy",
        "outputId": "8ae0e4a5-3f16-4a63-d6e2-3a24732d0909"
      },
      "source": [
        "tf.transpose(X)"
      ],
      "execution_count": 48,
      "outputs": [
        {
          "output_type": "execute_result",
          "data": {
            "text/plain": [
              "<tf.Tensor: shape=(4, 3), dtype=int32, numpy=\n",
              "array([[1, 1, 2],\n",
              "       [2, 2, 3],\n",
              "       [3, 3, 4],\n",
              "       [4, 6, 5]], dtype=int32)>"
            ]
          },
          "metadata": {},
          "execution_count": 48
        }
      ]
    },
    {
      "cell_type": "code",
      "metadata": {
        "colab": {
          "base_uri": "https://localhost:8080/"
        },
        "id": "uFajYrlWAEWl",
        "outputId": "baba4c79-34e6-45f4-f67c-c136332daa93"
      },
      "source": [
        "tf.reshape(Y, shape=(8,1))"
      ],
      "execution_count": 50,
      "outputs": [
        {
          "output_type": "execute_result",
          "data": {
            "text/plain": [
              "<tf.Tensor: shape=(8, 1), dtype=int32, numpy=\n",
              "array([[1],\n",
              "       [2],\n",
              "       [3],\n",
              "       [4],\n",
              "       [5],\n",
              "       [6],\n",
              "       [6],\n",
              "       [7]], dtype=int32)>"
            ]
          },
          "metadata": {},
          "execution_count": 50
        }
      ]
    },
    {
      "cell_type": "code",
      "metadata": {
        "colab": {
          "base_uri": "https://localhost:8080/"
        },
        "id": "uccyDXozBASR",
        "outputId": "8d29a45d-67f8-455d-8db6-13507256c67e"
      },
      "source": [
        "tf.reshape(X, shape = (6,2))"
      ],
      "execution_count": 53,
      "outputs": [
        {
          "output_type": "execute_result",
          "data": {
            "text/plain": [
              "<tf.Tensor: shape=(6, 2), dtype=int32, numpy=\n",
              "array([[1, 2],\n",
              "       [3, 4],\n",
              "       [1, 2],\n",
              "       [3, 6],\n",
              "       [2, 3],\n",
              "       [4, 5]], dtype=int32)>"
            ]
          },
          "metadata": {},
          "execution_count": 53
        }
      ]
    },
    {
      "cell_type": "markdown",
      "metadata": {
        "id": "03LtCTMPE2VY"
      },
      "source": [
        "## `tf.transordot()` "
      ]
    },
    {
      "cell_type": "code",
      "metadata": {
        "colab": {
          "base_uri": "https://localhost:8080/"
        },
        "id": "90_c5LR9GGV6",
        "outputId": "307b0fa5-ea62-415d-f387-555e99d60ebd"
      },
      "source": [
        "X.shape, Y.shape"
      ],
      "execution_count": 61,
      "outputs": [
        {
          "output_type": "execute_result",
          "data": {
            "text/plain": [
              "(TensorShape([3, 4]), TensorShape([3, 3]))"
            ]
          },
          "metadata": {},
          "execution_count": 61
        }
      ]
    },
    {
      "cell_type": "code",
      "metadata": {
        "colab": {
          "base_uri": "https://localhost:8080/"
        },
        "id": "2ien4BeHA_L9",
        "outputId": "4ce67aaa-1685-4dfe-fcf5-8d470c2fe469"
      },
      "source": [
        "tf.tensordot(tf.transpose(X), Y, axes =1)"
      ],
      "execution_count": 63,
      "outputs": [
        {
          "output_type": "execute_result",
          "data": {
            "text/plain": [
              "<tf.Tensor: shape=(4, 3), dtype=int32, numpy=\n",
              "array([[14, 18,  9],\n",
              "       [23, 30, 15],\n",
              "       [32, 42, 21],\n",
              "       [47, 62, 31]], dtype=int32)>"
            ]
          },
          "metadata": {},
          "execution_count": 63
        }
      ]
    },
    {
      "cell_type": "markdown",
      "metadata": {
        "id": "R-g7TFniIDlp"
      },
      "source": [
        "## Changing datatype of tensor"
      ]
    },
    {
      "cell_type": "code",
      "metadata": {
        "colab": {
          "base_uri": "https://localhost:8080/"
        },
        "id": "408mXha8BeSx",
        "outputId": "3f28d25c-6896-4e0b-8acf-2ccdafed0f3a"
      },
      "source": [
        "X.dtype, Y.dtype"
      ],
      "execution_count": 65,
      "outputs": [
        {
          "output_type": "execute_result",
          "data": {
            "text/plain": [
              "(tf.int32, tf.int32)"
            ]
          },
          "metadata": {},
          "execution_count": 65
        }
      ]
    },
    {
      "cell_type": "code",
      "metadata": {
        "colab": {
          "base_uri": "https://localhost:8080/"
        },
        "id": "BgBWhw-kEyWN",
        "outputId": "581e8d43-e246-4804-aaae-3702b7025ad2"
      },
      "source": [
        "C = tf.cast(X,tf.int16)\n",
        "C, C.dtype"
      ],
      "execution_count": 67,
      "outputs": [
        {
          "output_type": "execute_result",
          "data": {
            "text/plain": [
              "(<tf.Tensor: shape=(3, 4), dtype=int16, numpy=\n",
              " array([[1, 2, 3, 4],\n",
              "        [1, 2, 3, 6],\n",
              "        [2, 3, 4, 5]], dtype=int16)>, tf.int16)"
            ]
          },
          "metadata": {},
          "execution_count": 67
        }
      ]
    },
    {
      "cell_type": "code",
      "metadata": {
        "colab": {
          "base_uri": "https://localhost:8080/"
        },
        "id": "b9NZA6dZBN0s",
        "outputId": "629b325f-44f5-46ca-e130-f1c21cae00f5"
      },
      "source": [
        "E = tf.cast(Y, tf.float16)\n",
        "E, E.dtype"
      ],
      "execution_count": 68,
      "outputs": [
        {
          "output_type": "execute_result",
          "data": {
            "text/plain": [
              "(<tf.Tensor: shape=(3, 3), dtype=float16, numpy=\n",
              " array([[1., 2., 1.],\n",
              "        [3., 4., 2.],\n",
              "        [5., 6., 3.]], dtype=float16)>, tf.float16)"
            ]
          },
          "metadata": {},
          "execution_count": 68
        }
      ]
    },
    {
      "cell_type": "markdown",
      "metadata": {
        "id": "bQfqQqykEew0"
      },
      "source": [
        "## Finding positional Max and Min"
      ]
    },
    {
      "cell_type": "code",
      "metadata": {
        "colab": {
          "base_uri": "https://localhost:8080/"
        },
        "id": "IuFkpMSsEefY",
        "outputId": "35d376ea-a8f7-40c8-d019-d997e2fb7e27"
      },
      "source": [
        "tf.random.set_seed(23)\n",
        "F = tf.random.uniform(shape=[50])\n",
        "F"
      ],
      "execution_count": 11,
      "outputs": [
        {
          "output_type": "execute_result",
          "data": {
            "text/plain": [
              "<tf.Tensor: shape=(50,), dtype=float32, numpy=\n",
              "array([0.43993807, 0.09729016, 0.8235066 , 0.22273934, 0.3318541 ,\n",
              "       0.25352108, 0.34313524, 0.45672834, 0.60538435, 0.46301937,\n",
              "       0.50474167, 0.5150137 , 0.5610179 , 0.13842285, 0.9624418 ,\n",
              "       0.5469624 , 0.98602736, 0.7543844 , 0.19885683, 0.991691  ,\n",
              "       0.47549224, 0.17814577, 0.89089394, 0.24397457, 0.85176086,\n",
              "       0.8440089 , 0.7800995 , 0.07725966, 0.2982911 , 0.57528853,\n",
              "       0.2866801 , 0.6147386 , 0.64163256, 0.90662575, 0.01245236,\n",
              "       0.4213121 , 0.91082525, 0.27526963, 0.68104875, 0.50922835,\n",
              "       0.20153081, 0.29233146, 0.43840623, 0.9122982 , 0.87145627,\n",
              "       0.47187352, 0.20997441, 0.5697775 , 0.59673095, 0.42037487],\n",
              "      dtype=float32)>"
            ]
          },
          "metadata": {},
          "execution_count": 11
        }
      ]
    },
    {
      "cell_type": "code",
      "metadata": {
        "colab": {
          "base_uri": "https://localhost:8080/"
        },
        "id": "ojYc21Y5FSYP",
        "outputId": "67e87b55-ce72-4ac8-9025-4d5730468f60"
      },
      "source": [
        "tf.argmax(F)"
      ],
      "execution_count": 16,
      "outputs": [
        {
          "output_type": "execute_result",
          "data": {
            "text/plain": [
              "<tf.Tensor: shape=(), dtype=int64, numpy=19>"
            ]
          },
          "metadata": {},
          "execution_count": 16
        }
      ]
    },
    {
      "cell_type": "code",
      "metadata": {
        "colab": {
          "base_uri": "https://localhost:8080/"
        },
        "id": "x4uIDXjDFWG_",
        "outputId": "945e1eb7-1110-401e-d1dc-255ebbb011df"
      },
      "source": [
        "F[tf.argmax(F)]"
      ],
      "execution_count": 14,
      "outputs": [
        {
          "output_type": "execute_result",
          "data": {
            "text/plain": [
              "<tf.Tensor: shape=(), dtype=float32, numpy=0.991691>"
            ]
          },
          "metadata": {},
          "execution_count": 14
        }
      ]
    },
    {
      "cell_type": "code",
      "metadata": {
        "colab": {
          "base_uri": "https://localhost:8080/"
        },
        "id": "iha03xHVFnd9",
        "outputId": "d4b2c326-2dfb-4f70-f27f-d9a284ac7aef"
      },
      "source": [
        "tf.math.reduce_max(F)"
      ],
      "execution_count": 17,
      "outputs": [
        {
          "output_type": "execute_result",
          "data": {
            "text/plain": [
              "<tf.Tensor: shape=(), dtype=float32, numpy=0.991691>"
            ]
          },
          "metadata": {},
          "execution_count": 17
        }
      ]
    },
    {
      "cell_type": "code",
      "metadata": {
        "colab": {
          "base_uri": "https://localhost:8080/"
        },
        "id": "Buu2leQKFu4s",
        "outputId": "a77d96e1-bffa-4bdf-df8b-0f7be0c1ad73"
      },
      "source": [
        "tf.argmin(F)"
      ],
      "execution_count": 18,
      "outputs": [
        {
          "output_type": "execute_result",
          "data": {
            "text/plain": [
              "<tf.Tensor: shape=(), dtype=int64, numpy=34>"
            ]
          },
          "metadata": {},
          "execution_count": 18
        }
      ]
    },
    {
      "cell_type": "code",
      "metadata": {
        "colab": {
          "base_uri": "https://localhost:8080/"
        },
        "id": "8WJyiVkNF2sB",
        "outputId": "ccef14c2-7522-4f87-f60b-0e1ffa66e65a"
      },
      "source": [
        "F[tf.argmin(F)]"
      ],
      "execution_count": 19,
      "outputs": [
        {
          "output_type": "execute_result",
          "data": {
            "text/plain": [
              "<tf.Tensor: shape=(), dtype=float32, numpy=0.012452364>"
            ]
          },
          "metadata": {},
          "execution_count": 19
        }
      ]
    },
    {
      "cell_type": "markdown",
      "metadata": {
        "id": "wyNhB1b8G0Xy"
      },
      "source": [
        "## Squeezing the tensor"
      ]
    },
    {
      "cell_type": "code",
      "metadata": {
        "colab": {
          "base_uri": "https://localhost:8080/"
        },
        "id": "PF95MkMfGzzj",
        "outputId": "d3227a5d-658d-42d5-c05e-fa752da07d4d"
      },
      "source": [
        "tf.random.set_seed(23)\n",
        "G = tf.constant(tf.random.uniform(shape = [1,1,1,1,1,50]))\n",
        "G"
      ],
      "execution_count": 22,
      "outputs": [
        {
          "output_type": "execute_result",
          "data": {
            "text/plain": [
              "<tf.Tensor: shape=(1, 1, 1, 1, 1, 50), dtype=float32, numpy=\n",
              "array([[[[[[0.43993807, 0.09729016, 0.8235066 , 0.22273934,\n",
              "            0.3318541 , 0.25352108, 0.34313524, 0.45672834,\n",
              "            0.60538435, 0.46301937, 0.50474167, 0.5150137 ,\n",
              "            0.5610179 , 0.13842285, 0.9624418 , 0.5469624 ,\n",
              "            0.98602736, 0.7543844 , 0.19885683, 0.991691  ,\n",
              "            0.47549224, 0.17814577, 0.89089394, 0.24397457,\n",
              "            0.85176086, 0.8440089 , 0.7800995 , 0.07725966,\n",
              "            0.2982911 , 0.57528853, 0.2866801 , 0.6147386 ,\n",
              "            0.64163256, 0.90662575, 0.01245236, 0.4213121 ,\n",
              "            0.91082525, 0.27526963, 0.68104875, 0.50922835,\n",
              "            0.20153081, 0.29233146, 0.43840623, 0.9122982 ,\n",
              "            0.87145627, 0.47187352, 0.20997441, 0.5697775 ,\n",
              "            0.59673095, 0.42037487]]]]]], dtype=float32)>"
            ]
          },
          "metadata": {},
          "execution_count": 22
        }
      ]
    },
    {
      "cell_type": "markdown",
      "metadata": {
        "id": "6C02hxXEH1WI"
      },
      "source": [
        "Squeezing the tensor means, it get rid of the all single dimensions in the 1 dimensions in the tensor."
      ]
    },
    {
      "cell_type": "code",
      "metadata": {
        "colab": {
          "base_uri": "https://localhost:8080/"
        },
        "id": "ijBtDYtIILBz",
        "outputId": "339b5f47-4f60-4b8f-b017-ac6b03db92d9"
      },
      "source": [
        "G_squeezes = tf.squeeze(G)\n",
        "G_squeezes, G_squeezes.shape"
      ],
      "execution_count": 23,
      "outputs": [
        {
          "output_type": "execute_result",
          "data": {
            "text/plain": [
              "(<tf.Tensor: shape=(50,), dtype=float32, numpy=\n",
              " array([0.43993807, 0.09729016, 0.8235066 , 0.22273934, 0.3318541 ,\n",
              "        0.25352108, 0.34313524, 0.45672834, 0.60538435, 0.46301937,\n",
              "        0.50474167, 0.5150137 , 0.5610179 , 0.13842285, 0.9624418 ,\n",
              "        0.5469624 , 0.98602736, 0.7543844 , 0.19885683, 0.991691  ,\n",
              "        0.47549224, 0.17814577, 0.89089394, 0.24397457, 0.85176086,\n",
              "        0.8440089 , 0.7800995 , 0.07725966, 0.2982911 , 0.57528853,\n",
              "        0.2866801 , 0.6147386 , 0.64163256, 0.90662575, 0.01245236,\n",
              "        0.4213121 , 0.91082525, 0.27526963, 0.68104875, 0.50922835,\n",
              "        0.20153081, 0.29233146, 0.43840623, 0.9122982 , 0.87145627,\n",
              "        0.47187352, 0.20997441, 0.5697775 , 0.59673095, 0.42037487],\n",
              "       dtype=float32)>, TensorShape([50]))"
            ]
          },
          "metadata": {},
          "execution_count": 23
        }
      ]
    },
    {
      "cell_type": "markdown",
      "metadata": {
        "id": "JW0WM9F3KC0B"
      },
      "source": [
        "## Onehot encoding in TernsorFlow"
      ]
    },
    {
      "cell_type": "code",
      "metadata": {
        "colab": {
          "base_uri": "https://localhost:8080/"
        },
        "id": "oqQy9BlRKCVJ",
        "outputId": "0e83fdb0-a004-4f50-c213-c8f70427fcf2"
      },
      "source": [
        "#Some_list = ['Red', 'Green', 'Blue']\n",
        "Some_list = [0,1,2]\n",
        "tf.one_hot(Some_list, depth = 3)"
      ],
      "execution_count": 25,
      "outputs": [
        {
          "output_type": "execute_result",
          "data": {
            "text/plain": [
              "<tf.Tensor: shape=(3, 3), dtype=float32, numpy=\n",
              "array([[1., 0., 0.],\n",
              "       [0., 1., 0.],\n",
              "       [0., 0., 1.]], dtype=float32)>"
            ]
          },
          "metadata": {},
          "execution_count": 25
        }
      ]
    },
    {
      "cell_type": "markdown",
      "metadata": {
        "id": "P5b7ME43KCOV"
      },
      "source": [
        ""
      ]
    }
  ]
}